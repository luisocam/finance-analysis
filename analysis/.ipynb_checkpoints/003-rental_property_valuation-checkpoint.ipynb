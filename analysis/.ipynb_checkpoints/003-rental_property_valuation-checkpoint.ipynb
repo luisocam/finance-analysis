{
 "cells": [
  {
   "cell_type": "markdown",
   "metadata": {},
   "source": [
    "# Rental property valuation\n",
    "Using the Discounted Cash Flow (DCF) methodology, we develop a few functions that allow us to easily assess the value of a real estate propery."
   ]
  },
  {
   "cell_type": "code",
   "execution_count": 352,
   "metadata": {},
   "outputs": [],
   "source": [
    "%matplotlib inline\n",
    "import numpy as np\n",
    "import pandas as pd\n",
    "import matplotlib.pyplot as plt\n",
    "import seaborn as sns; sns.set()"
   ]
  },
  {
   "cell_type": "markdown",
   "metadata": {},
   "source": [
    "## Mortgage simulation\n",
    "We use the following formulas for the mortgage simulation where $a$ is the annual interest rate or Annual Percentage Rate of Charge (APRC) rate, $P$ is the principal and $n$ is the number of years of the mortgage.\n",
    "\n",
    "$$\\text{Monthly rate}= r = (1 + a) ^{1 / 12} - 1$$\n",
    "\n",
    "$$\\text{Monthly payment} = \\frac{r * P}{1 - (1 + r)^{-n * 12}}$$"
   ]
  },
  {
   "cell_type": "code",
   "execution_count": 353,
   "metadata": {},
   "outputs": [],
   "source": [
    "def mortgage_simulation(principal, years, annual_rate, APRC):\n",
    "    \"\"\"\n",
    "    Calculates the monthly payment, adjusted monthly payment gicen an APRC and the total \n",
    "    interest paid over the loan term\n",
    "    \"\"\"\n",
    "    \n",
    "    monthly_rate = (1 + annual_rate) ** (1 / 12) - 1\n",
    "    monthly_payment = (monthly_rate * principal) / (1 - (1 + monthly_rate) ** (-years * 12))\n",
    "    total_interest = monthly_payment * (years * 12) - principal\n",
    "    \n",
    "    APRC_monthly_rate = (1 + APRC) ** (1 / 12) - 1\n",
    "    adjusted_monthly_payment = (APRC_monthly_rate * principal) / (1 - (1 + APRC_monthly_rate) ** (-years * 12))\n",
    "\n",
    "    \n",
    "    return {'monthly_payment': np.around(monthly_payment, 2), \n",
    "            'adjusted_monthly_payment': np.around(adjusted_monthly_payment, 2),\n",
    "            'total_interest': np.around(total_interest, 2)}\n",
    "    "
   ]
  },
  {
   "cell_type": "markdown",
   "metadata": {},
   "source": [
    "#### Example:\n",
    "We test the function by giving it as inputs $P=56000$, $n=10$ and $a=2.85\\text{%}$. We also input $APRC=5.6\\text{%}$ in order to get an adjusted montly payment that accounts for extra costs (i.e. arrangement fees, valuation charges, notary expenses, as well as premiums on insurances)."
   ]
  },
  {
   "cell_type": "code",
   "execution_count": 354,
   "metadata": {},
   "outputs": [
    {
     "data": {
      "text/plain": [
       "{'monthly_payment': 535.93,\n",
       " 'adjusted_monthly_payment': 606.67,\n",
       " 'total_interest': 8311.71}"
      ]
     },
     "execution_count": 354,
     "metadata": {},
     "output_type": "execute_result"
    }
   ],
   "source": [
    "mortgage_simulation(56000, 10, 0.0285, 0.056)"
   ]
  },
  {
   "cell_type": "markdown",
   "metadata": {},
   "source": [
    "## Taxes (Belgium)\n",
    "To calculate the net cash flow of a rental property, it's important to derive a concrete estimate of the taxes applicable to the property. The following calculations apply to Belgium only. Some facts:\n",
    "- **Cadastral Income (CI):** Average fictivious rental value (in 1975) minus 40% to account for fixed expenses\n",
    "- **CI indexation coefficient for 2017:** [1.7491](https://financien.belgium.be/nl/particulieren/woning/kadaster/kadastraal-inkomen)\n",
    "- **Regional witholding tax on rental income:** [Based on indexed cadastral income increased by 40%](https://financien.belgium.be/nl/particulieren/woning/huren_-_verhuren/huurinkomsten#q1)\n",
    "    - Flanders: [2.5%](https://www.kadaster.be/Kadaster/Informatie_over_onroerende_voorheffing)\n",
    "    - Wallonia and Brussels: [1.25%](https://www.kadaster.be/Kadaster/Informatie_over_onroerende_voorheffing)\n",
    "- **Additional \"cents\" on regional witholding tax:** [Provincial and communal](https://www.pim.be/faq-items/comment-calculer-le-precompte-immobilier)\n",
    "    - Flanders average: [173 (province average) and 877 (communal average)](https://belastingen.vlaanderen.be/sites/default/files/atoms/files/Overzicht%20opcentiemen%202018_0.pdf)\n",
    "    - Wallonia average: [1150 (using Brabant Wallonia province) and 2136 (BW communal average)](http://www.brabantwallon.be/bw/files/files/public/publications-officielles/Calcul-precompte-immobilier-verrouille-avec-reductions.xlsx)\n",
    "    - Brussels average: [989 (agglomeraton) and 3000 (communal average)](https://fiscalite.brussels/precompte-immobilier-2)"
   ]
  },
  {
   "cell_type": "code",
   "execution_count": 350,
   "metadata": {},
   "outputs": [],
   "source": [
    "def belgium_taxes(cadastral_income, indexation_coeff, region):\n",
    "    \"\"\"\n",
    "    Calculates the indexed cadastral income as well as the the regional, provincial\n",
    "    and communal witholding taxes\n",
    "    \"\"\"\n",
    "    indexed_cadastral_income = cadastral_income * indexation_coeff\n",
    "    \n",
    "    if region == 'Flanders':\n",
    "        region_rate, province_cents, commune_cents = (0.025, 173, 877)\n",
    "        \n",
    "    elif region == 'Wallonia':\n",
    "        region_rate, province_cents, commune_cents = (0.0125, 1150, 2600)\n",
    "        \n",
    "    elif region == 'Brussels':\n",
    "        region_rate, province_cents, commune_cents = (0.0125, 989, 3000)\n",
    "        \n",
    "    else:\n",
    "        return print('Please select either Flanders, Brussels or Wallonia as the region.')\n",
    "    \n",
    "    region_wh_tax = region_rate * indexed_cadastral_income\n",
    "    province_wh_tax = region_wh_tax * (province_cents / 100)\n",
    "    commune_wh_tax = region_wh_tax * (commune_cents / 100)\n",
    "    total_wh_tax = (region_wh_tax + province_wh_tax + commune_wh_tax)\n",
    "    wh_tax_rate = total_wh_tax / indexed_cadastral_income\n",
    "        \n",
    "    return {'cadastral_income': np.around(cadastral_income, 2),\n",
    "            'indexed_cadastral_income': np.around(indexed_cadastral_income, 2),\n",
    "            'region_witholding_tax': np.around(region_wh_tax, 2),\n",
    "            'province_witholding_tax': np.around(province_wh_tax, 2),\n",
    "            'commune_witholding_tax': np.around(commune_wh_tax, 2),\n",
    "            'witholding_tax': np.around(total_wh_tax, 2),\n",
    "            'witholding_tax_rate': f'{wh_tax_rate:.2%}'}"
   ]
  },
  {
   "cell_type": "markdown",
   "metadata": {},
   "source": [
    "#### Example:\n",
    "Besides it being evidently clear how complex taxation is in Belgium, the example below provides an overview of how the annual total witholding tax on rental income is calculated."
   ]
  },
  {
   "cell_type": "code",
   "execution_count": 355,
   "metadata": {},
   "outputs": [
    {
     "data": {
      "text/plain": [
       "{'cadastral_income': 857.58,\n",
       " 'indexed_cadastral_income': 1499.99,\n",
       " 'region_witholding_tax': 18.75,\n",
       " 'province_witholding_tax': 185.44,\n",
       " 'commune_witholding_tax': 562.5,\n",
       " 'witholding_tax': 766.68,\n",
       " 'witholding_tax_rate': '51.11%'}"
      ]
     },
     "execution_count": 355,
     "metadata": {},
     "output_type": "execute_result"
    }
   ],
   "source": [
    "belgium_taxes(857.58, 1.7491, 'Brussels')"
   ]
  },
  {
   "cell_type": "markdown",
   "metadata": {},
   "source": [
    "## Forecasted future net cash flows\n",
    "We deduct the investment's financing costs, taxes and ther expenses to derive the net cashflow that the investment would yield over the holding period."
   ]
  },
  {
   "cell_type": "code",
   "execution_count": 356,
   "metadata": {},
   "outputs": [],
   "source": [
    "def net_cash_flow(monthly_rent, monthly_payment, vacancy_rate, taxes, expenses):\n",
    "    \"\"\"\n",
    "    Calculates net yearly cashflow that investment yields\n",
    "    \"\"\"\n",
    "    gross_rent_income = monthly_rent * 12\n",
    "    vacancy_loss = vacancy_rate * gross_rent_income\n",
    "    \n",
    "    return np.around(gross_rent_income - (monthly_payment * 12) - vacancy_loss - taxes - expenses, 2)"
   ]
  },
  {
   "cell_type": "markdown",
   "metadata": {},
   "source": [
    "#### Example:\n",
    "The example below shows that a property with a monthly rental income of € 1500, € 535.93 in financing costs, a potential 6% vacancy rate, a witholding tax of € 766.68 and annual reparation and maintenance expenses of € 1200 would yield a net yearly cash flow of € 8522.16"
   ]
  },
  {
   "cell_type": "code",
   "execution_count": 357,
   "metadata": {},
   "outputs": [
    {
     "data": {
      "text/plain": [
       "8522.16"
      ]
     },
     "execution_count": 357,
     "metadata": {},
     "output_type": "execute_result"
    }
   ],
   "source": [
    "net_cash_flow(1500, 535.93, 0.06, 766.68, 1200)"
   ]
  },
  {
   "cell_type": "markdown",
   "metadata": {},
   "source": [
    "## Discounted cash flows (DCF)\n"
   ]
  }
 ],
 "metadata": {
  "kernelspec": {
   "display_name": "Python 3",
   "language": "python",
   "name": "python3"
  },
  "language_info": {
   "codemirror_mode": {
    "name": "ipython",
    "version": 3
   },
   "file_extension": ".py",
   "mimetype": "text/x-python",
   "name": "python",
   "nbconvert_exporter": "python",
   "pygments_lexer": "ipython3",
   "version": "3.6.5"
  }
 },
 "nbformat": 4,
 "nbformat_minor": 2
}
